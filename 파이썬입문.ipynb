{
  "nbformat": 4,
  "nbformat_minor": 0,
  "metadata": {
    "colab": {
      "name": "파이썬입문.ipynb",
      "provenance": [],
      "collapsed_sections": [],
      "authorship_tag": "ABX9TyNeCi/Z1Rp486Vi0gtGHMdC",
      "include_colab_link": true
    },
    "kernelspec": {
      "name": "python3",
      "display_name": "Python 3"
    }
  },
  "cells": [
    {
      "cell_type": "markdown",
      "metadata": {
        "id": "view-in-github",
        "colab_type": "text"
      },
      "source": [
        "<a href=\"https://colab.research.google.com/github/EomSM/python_start/blob/main/%ED%8C%8C%EC%9D%B4%EC%8D%AC%EC%9E%85%EB%AC%B8.ipynb\" target=\"_parent\"><img src=\"https://colab.research.google.com/assets/colab-badge.svg\" alt=\"Open In Colab\"/></a>"
      ]
    },
    {
      "cell_type": "code",
      "metadata": {
        "colab": {
          "base_uri": "https://localhost:8080/"
        },
        "id": "nMG12-oLFMCG",
        "outputId": "69b3f937-aefb-4816-8dd5-6ed86a9c0d4b"
      },
      "source": [
        "print('hello')"
      ],
      "execution_count": null,
      "outputs": [
        {
          "output_type": "stream",
          "text": [
            "hello\n"
          ],
          "name": "stdout"
        }
      ]
    },
    {
      "cell_type": "code",
      "metadata": {
        "colab": {
          "base_uri": "https://localhost:8080/"
        },
        "id": "tf-7Nx_vG-8y",
        "outputId": "05508806-ff7e-464e-e446-56110071058b"
      },
      "source": [
        "print('안녕하세요.', end=' ')\r\n",
        "print('저는 홍길동입니다')"
      ],
      "execution_count": null,
      "outputs": [
        {
          "output_type": "stream",
          "text": [
            "안녕하세요. 저는 홍길동입니다\n"
          ],
          "name": "stdout"
        }
      ]
    },
    {
      "cell_type": "code",
      "metadata": {
        "id": "W8CbR86mHGCO"
      },
      "source": [
        "# 설명문, Ctrl+/ , comment, 주석.\r\n",
        "# 입력:데이터를 파이썬 프로그램으로 가지고 옴.\r\n",
        "# 처리: 적절한 처리\r\n",
        "# 출력: 처리한 결과를 내보내는 것(모니터 화면 ; 파일로 저장 ; DB에 저장 ; 네트워크 전송 etc.) "
      ],
      "execution_count": null,
      "outputs": []
    },
    {
      "cell_type": "code",
      "metadata": {
        "colab": {
          "base_uri": "https://localhost:8080/"
        },
        "id": "tkXauC1hJgnB",
        "outputId": "4c8e31ac-f51c-49d0-eaa1-905aada6a0cb"
      },
      "source": [
        "name = input('이름을 입력하세요 >> ') # 간단한 처리(기호 사용) : 연산 = 연산자\r\n",
        "#= : 대입연산자"
      ],
      "execution_count": null,
      "outputs": [
        {
          "output_type": "stream",
          "text": [
            "이름을 입력하세요 >> 김삿갓\n"
          ],
          "name": "stdout"
        }
      ]
    },
    {
      "cell_type": "code",
      "metadata": {
        "colab": {
          "base_uri": "https://localhost:8080/"
        },
        "id": "4U8EJzO7Kyc6",
        "outputId": "bc986b3c-1428-48e9-aef4-1a379976214b"
      },
      "source": [
        "print(name)"
      ],
      "execution_count": null,
      "outputs": [
        {
          "output_type": "stream",
          "text": [
            "김삿갓\n"
          ],
          "name": "stdout"
        }
      ]
    },
    {
      "cell_type": "code",
      "metadata": {
        "colab": {
          "base_uri": "https://localhost:8080/"
        },
        "id": "SF5CsBTrK38B",
        "outputId": "b4fec1b8-7106-4c1d-8ed9-4a18e29d8241"
      },
      "source": [
        "#소속나이이름\r\n",
        "company = input('소속을 입력하세요 >> ' )\r\n",
        "age = input('나이를 입력하세요 >> ')\r\n",
        "name = input('이름을 입력하세요 >> ')\r\n",
        "print(company, age, name)"
      ],
      "execution_count": null,
      "outputs": [
        {
          "output_type": "stream",
          "text": [
            "소속을 입력하세요 >> here\n",
            "나이를 입력하세요 >> 300\n",
            "이름을 입력하세요 >> john\n",
            "here 300 john\n"
          ],
          "name": "stdout"
        }
      ]
    },
    {
      "cell_type": "code",
      "metadata": {
        "id": "PZSji6EtNhjr"
      },
      "source": [
        "location = '신촌'\r\n",
        "number=2 #정수는 앞뒤 아무 기호 x\r\n",
        "height=199.5 #실수도 앞뒤 기호 x\r\n",
        "food_lunch=True #Py _를 붙이는 뱀표기법(sneak) ; 자바_소문자 T표시. foodLunch '낙타혹(camel)표기법' ; html & stql 두 개만 대소문자 구분x\r\n"
      ],
      "execution_count": null,
      "outputs": []
    },
    {
      "cell_type": "code",
      "metadata": {
        "colab": {
          "base_uri": "https://localhost:8080/"
        },
        "id": "XEzBBxuHUAHG",
        "outputId": "363957a7-88cb-421b-af3d-69f76b5b4727"
      },
      "source": [
        "age2=input('나이 입력>> ')\r\n",
        " #컴퓨터에서 입력한 데이터는 타입을 무조건 스트링으로 인식.\r\n",
        "#Str->Int로 타입 변환 (casting 강제 캐스팅)\r\n",
        "print('내년 나이', int(age2)+1)"
      ],
      "execution_count": null,
      "outputs": [
        {
          "output_type": "stream",
          "text": [
            "나이 입력>> 200\n",
            "내년 나이 201\n"
          ],
          "name": "stdout"
        }
      ]
    },
    {
      "cell_type": "code",
      "metadata": {
        "id": "_aagsdShUQBd",
        "colab": {
          "base_uri": "https://localhost:8080/"
        },
        "outputId": "5e13e254-0993-4ae9-eadf-6f48fd06e254"
      },
      "source": [
        "number1=int(input('숫자1>> '))\r\n",
        "number2=int(input('숫자2>> '))\r\n",
        "print('더하기', number1+number2) #산술연산자\r\n",
        "print('빼기', number1-number2)\r\n",
        "print('곱하기', number1*number2)\r\n",
        "print('나누기1', number1/number2) #%는 나머지 소수점만만\r\n",
        "print('나누기2', number1//number2) #실수 부분 잘라내고 정수"
      ],
      "execution_count": null,
      "outputs": [
        {
          "output_type": "stream",
          "text": [
            "숫자1>> 100\n",
            "숫자2>> 25\n",
            "더하기 125\n",
            "빼기 75\n",
            "곱하기 2500\n",
            "나누기1 4.0\n",
            "나누기2 4\n"
          ],
          "name": "stdout"
        }
      ]
    },
    {
      "cell_type": "code",
      "metadata": {
        "colab": {
          "base_uri": "https://localhost:8080/"
        },
        "id": "r72UXLf1XQ_l",
        "outputId": "b4a9ac4d-035c-423a-ca06-1ba65ca2330e"
      },
      "source": [
        "me= '커피'\r\n",
        "me2='우유'\r\n",
        "print(me+me2)#결합연산자, 문자열로.\r\n",
        "price=1000 #str으로 처리\r\n",
        "print(me +'가격은 '+ str(price)+'원')"
      ],
      "execution_count": null,
      "outputs": [
        {
          "output_type": "stream",
          "text": [
            "커피우유\n",
            "커피가격은 1000원\n"
          ],
          "name": "stdout"
        }
      ]
    },
    {
      "cell_type": "code",
      "metadata": {
        "colab": {
          "base_uri": "https://localhost:8080/"
        },
        "id": "zSnRqqZyZX6M",
        "outputId": "d1c1da9b-594d-4a59-9d13-f8f1f5b81a93"
      },
      "source": [
        "coffee_price=5000\r\n",
        "coffee_person=5\r\n",
        "sum=coffee_price * coffee_person #변수 var(저장공간, 저장공간이름=>변수명)\r\n",
        "\r\n",
        "if sum>=20000:\r\n",
        " print(\"2천원을 할인해드립니다\")\r\n",
        " print(sum-2000)\r\n",
        "else:\r\n",
        " print(\"계산값을 다 지불\")\r\n",
        " print(sum)"
      ],
      "execution_count": null,
      "outputs": [
        {
          "output_type": "stream",
          "text": [
            "2천원을 할인해드립니다\n",
            "23000\n"
          ],
          "name": "stdout"
        }
      ]
    },
    {
      "cell_type": "code",
      "metadata": {
        "colab": {
          "base_uri": "https://localhost:8080/"
        },
        "id": "293QzYp4tGhl",
        "outputId": "78e13f36-fbf9-46a0-ffb9-16f14e586da7"
      },
      "source": [
        "sum"
      ],
      "execution_count": null,
      "outputs": [
        {
          "output_type": "execute_result",
          "data": {
            "text/plain": [
              "25000"
            ]
          },
          "metadata": {
            "tags": []
          },
          "execution_count": 80
        }
      ]
    },
    {
      "cell_type": "code",
      "metadata": {
        "id": "fs-DyZJZiKS2",
        "colab": {
          "base_uri": "https://localhost:8080/"
        },
        "outputId": "ea54d3b0-af66-4467-ebe2-eab3bc51329e"
      },
      "source": [
        "principal = input(\"1년만기정기예금 얼마나 예치하시겠습니까?\") \r\n",
        "#'20000'을 가져오는 명령어[input]필요\r\n",
        "principal2 = int(principal)\r\n",
        "print(\"원금이\", principal2,\"원이시군요\")\r\n",
        "interest = principal2*0.1\r\n",
        "print(\"이자는\", int(interest), \"원입니다.\")\r\n",
        "sum=principal2+interest\r\n",
        "print(\"원리합계는\", int(sum), \"원입니다.\")"
      ],
      "execution_count": null,
      "outputs": [
        {
          "output_type": "stream",
          "text": [
            "1년만기정기예금 얼마나 예치하시겠습니까?20000\n",
            "원금이 20000 원이시군요\n",
            "이자는 2000 원입니다.\n",
            "원리합계는 22000 원입니다.\n"
          ],
          "name": "stdout"
        }
      ]
    },
    {
      "cell_type": "code",
      "metadata": {
        "colab": {
          "base_uri": "https://localhost:8080/"
        },
        "id": "bJhCCuVTjq4q",
        "outputId": "8b7fd762-3ce9-4b95-b3d6-cdebfdb36a37"
      },
      "source": [
        "eng = int(input('영어점수'))\r\n",
        "math = int(input('수학점수'))\r\n",
        "korean = int(input('국어점수'))\r\n",
        "print('세 과목의 합', eng+math+korean)\r\n",
        "print('평균', int((eng+math+korean)/3))"
      ],
      "execution_count": null,
      "outputs": [
        {
          "output_type": "stream",
          "text": [
            "영어점수76\n",
            "수학점수80\n",
            "국어점수60\n",
            "세 과목의 합 216\n",
            "평균 72\n"
          ],
          "name": "stdout"
        }
      ]
    },
    {
      "cell_type": "code",
      "metadata": {
        "colab": {
          "base_uri": "https://localhost:8080/"
        },
        "id": "Q1lFsQhDk1sH",
        "outputId": "e607a67b-52d4-472b-8823-390d99ecde1b"
      },
      "source": [
        "time=int(input(\"지금은 몇시입니까?\"))\r\n",
        "if time<12:\r\n",
        "  print(\"맛있게 드세요!\")\r\n",
        "else:\r\n",
        "  print(\"점심후입니다\")"
      ],
      "execution_count": null,
      "outputs": [
        {
          "output_type": "stream",
          "text": [
            "지금은 몇시입니까?12\n",
            "점심후입니다\n"
          ],
          "name": "stdout"
        }
      ]
    },
    {
      "cell_type": "code",
      "metadata": {
        "colab": {
          "base_uri": "https://localhost:8080/"
        },
        "id": "7DBT_g8-lDpw",
        "outputId": "251bf9b9-4df0-46cf-df25-2c176b727cc0"
      },
      "source": [
        "id=\"root\"\r\n",
        "print (id=='root')\r\n",
        "root=True\r\n",
        "id2='root1'\r\n",
        "print(id2=='root')"
      ],
      "execution_count": null,
      "outputs": [
        {
          "output_type": "stream",
          "text": [
            "True\n",
            "False\n"
          ],
          "name": "stdout"
        }
      ]
    },
    {
      "cell_type": "code",
      "metadata": {
        "colab": {
          "base_uri": "https://localhost:8080/"
        },
        "id": "pCZLF4_alzUR",
        "outputId": "88c5610e-24e2-4efa-c2ad-63933b781087"
      },
      "source": [
        "sticker_price=1000\r\n",
        "sticker_amount=3\r\n",
        "bookmark_price=2500\r\n",
        "bookmark_amount=4\r\n",
        "sum = sticker_price*sticker_amount+bookmark_price*bookmark_amount\r\n",
        "print(\"정가\", sum)\r\n",
        "discount = sum*0.1\r\n",
        "print(\"할인받은 금액\", discount)\r\n",
        "print(\"내가 낸 금액\", int(sum-discount))"
      ],
      "execution_count": null,
      "outputs": [
        {
          "output_type": "stream",
          "text": [
            "정가 13000\n",
            "할인받은 금액 1300.0\n",
            "내가 낸 금액 11700\n"
          ],
          "name": "stdout"
        }
      ]
    },
    {
      "cell_type": "code",
      "metadata": {
        "id": "jSmYLva30KhL"
      },
      "source": [
        "id = 'root'\r\n",
        "id2 = input(\"id입력\") \r\n",
        "\r\n",
        "if id == id2:\r\n",
        "  print (\"로그인\")\r\n",
        "else:\r\n",
        "  print (\"X로그인\")"
      ],
      "execution_count": null,
      "outputs": []
    },
    {
      "cell_type": "code",
      "metadata": {
        "id": "UehDjMbXvS67"
      },
      "source": [
        "# CPU가 덜 바빠지게 하는 것: RAM에 한번 더 저장을 시켜서 그 값을 불러오는 게 더 좋음.\r\n",
        "# RAM= 변수[기본데이터: string(문자열)/int(정수)/float(실수)/boolean(논리형)]; 변수명\r\n",
        "# 연산자(기호 로 보이는 것) : CPU가 할 수 있는 간단한 처리  - 제어문, 대연, 부품\r\n",
        "# 1 대입: =,할당연산자 | 2 결합 : + | 3 산술: +-*/ // % | 4 비교 == != > < >= <= [[비교의 결과가 True/False로 나옴 => Boolean 논리형 data]] | 5 논리 and or\r\n",
        "# 제어문(순차문 입력-처리-출력, 조건문 if / if~else / if~ elif~else, 반복문 while, for)"
      ],
      "execution_count": null,
      "outputs": []
    },
    {
      "cell_type": "code",
      "metadata": {
        "id": "eqVvFuqDzf2y"
      },
      "source": [
        ""
      ],
      "execution_count": null,
      "outputs": []
    }
  ]
}