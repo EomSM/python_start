{
  "nbformat": 4,
  "nbformat_minor": 0,
  "metadata": {
    "colab": {
      "name": "파이썬제어문.ipynb",
      "provenance": [],
      "collapsed_sections": [],
      "authorship_tag": "ABX9TyOGHGD+ZRd0TQm/C8sDMNR7",
      "include_colab_link": true
    },
    "kernelspec": {
      "name": "python3",
      "display_name": "Python 3"
    }
  },
  "cells": [
    {
      "cell_type": "markdown",
      "metadata": {
        "id": "view-in-github",
        "colab_type": "text"
      },
      "source": [
        "<a href=\"https://colab.research.google.com/github/EomSM/python_start/blob/main/%ED%8C%8C%EC%9D%B4%EC%8D%AC%EC%A0%9C%EC%96%B4%EB%AC%B8.ipynb\" target=\"_parent\"><img src=\"https://colab.research.google.com/assets/colab-badge.svg\" alt=\"Open In Colab\"/></a>"
      ]
    },
    {
      "cell_type": "code",
      "metadata": {
        "id": "58TqyJy9XP59",
        "colab": {
          "base_uri": "https://localhost:8080/"
        },
        "outputId": "27a7fd7e-f598-4cc1-83b6-ecbe8b2b4180"
      },
      "source": [
        "food = input('먹고 싶은 음식을 입력하세요.>> ')\r\n",
        "print('당신이 입력한 먹고싶은 음식은 ', food)"
      ],
      "execution_count": null,
      "outputs": [
        {
          "output_type": "stream",
          "text": [
            "먹고 싶은 음식을 입력하세요.>> 회\n",
            "당신이 입력한 먹고싶은 음식은  회\n"
          ],
          "name": "stdout"
        }
      ]
    },
    {
      "cell_type": "code",
      "metadata": {
        "id": "9k82LCREcYbx"
      },
      "source": [
        "if food == '우동':\r\n",
        "  print('우산을 들고간다')\r\n",
        "  print('돈')\r\n",
        "  print('우동집으로')\r\n",
        "elif food == '짜장면':\r\n",
        "  print('중국집')\r\n",
        "elif food == '라면':\r\n",
        "  print('분식집')\r\n",
        "else: #else 뒤에는 조건을 쓰지 않는다. if 뒤에는 조건 반드시 붙는다.\r\n",
        "  print('집') #pass"
      ],
      "execution_count": null,
      "outputs": []
    },
    {
      "cell_type": "code",
      "metadata": {
        "colab": {
          "base_uri": "https://localhost:8080/"
        },
        "id": "gl32aQbyddVn",
        "outputId": "639f8666-a361-454f-bc6f-b3321d15b520"
      },
      "source": [
        "start = 0\r\n",
        "while start < 10: #Ture라면 반복해라\r\n",
        "  print(start, '> 내가 반복') \r\n",
        "  start =start + 1\r\n",
        "#정해진 횟수만큼 반복 \\ 시작값, 끝값 증감식. count는 0부터 시작하는 경우가 많다."
      ],
      "execution_count": null,
      "outputs": [
        {
          "output_type": "stream",
          "text": [
            "0 > 내가 반복\n",
            "1 > 내가 반복\n",
            "2 > 내가 반복\n",
            "3 > 내가 반복\n",
            "4 > 내가 반복\n",
            "5 > 내가 반복\n",
            "6 > 내가 반복\n",
            "7 > 내가 반복\n",
            "8 > 내가 반복\n",
            "9 > 내가 반복\n"
          ],
          "name": "stdout"
        }
      ]
    },
    {
      "cell_type": "code",
      "metadata": {
        "colab": {
          "base_uri": "https://localhost:8080/"
        },
        "id": "riibvyjpfcbw",
        "outputId": "d9fa13f5-994c-4785-977a-d94593a3376e"
      },
      "source": [
        "for _ in range(0,10): #0~9까지의 범위 ; 증감식이 없음 = 디폴트로 +1인걸로 기본값\r\n",
        "  print('나도 반복')"
      ],
      "execution_count": null,
      "outputs": [
        {
          "output_type": "stream",
          "text": [
            "나도 반복\n",
            "나도 반복\n",
            "나도 반복\n",
            "나도 반복\n",
            "나도 반복\n",
            "나도 반복\n",
            "나도 반복\n",
            "나도 반복\n",
            "나도 반복\n",
            "나도 반복\n"
          ],
          "name": "stdout"
        }
      ]
    },
    {
      "cell_type": "code",
      "metadata": {
        "colab": {
          "base_uri": "https://localhost:8080/"
        },
        "id": "nO_m4pWdjbkn",
        "outputId": "362dfda6-d9ea-4a95-f121-49af5f7304bb"
      },
      "source": [
        "for x in range(10):\r\n",
        "  print(x, '> 뿅')"
      ],
      "execution_count": null,
      "outputs": [
        {
          "output_type": "stream",
          "text": [
            "0 > 뿅\n",
            "1 > 뿅\n",
            "2 > 뿅\n",
            "3 > 뿅\n",
            "4 > 뿅\n",
            "5 > 뿅\n",
            "6 > 뿅\n",
            "7 > 뿅\n",
            "8 > 뿅\n",
            "9 > 뿅\n"
          ],
          "name": "stdout"
        }
      ]
    },
    {
      "cell_type": "code",
      "metadata": {
        "colab": {
          "base_uri": "https://localhost:8080/"
        },
        "id": "nqH1zqw6j5ef",
        "outputId": "29739a35-bfe3-4eff-bcaf-2d2f8dee4a7b"
      },
      "source": [
        "time = int(input(\"현재시각>>\"))\r\n",
        "if time < 11:\r\n",
        "  print (\"good morning\")\r\n",
        "elif time<15:\r\n",
        "  print(\"good afternoon\")\r\n",
        "elif time <20:\r\n",
        "  print(\"good evening\")\r\n",
        "else:\r\n",
        "  print(\"good night\")\r\n",
        "#현재시각 11시\r\n",
        "#11시 전이면 goodmorning; 15시전이면 aft. 20 even. 위 조건 아니면 굿나잇"
      ],
      "execution_count": null,
      "outputs": [
        {
          "output_type": "stream",
          "text": [
            "현재시각>>15\n",
            "good evening\n"
          ],
          "name": "stdout"
        }
      ]
    },
    {
      "cell_type": "code",
      "metadata": {
        "colab": {
          "base_uri": "https://localhost:8080/"
        },
        "id": "0mQQcrIJk5Ln",
        "outputId": "750e0678-6ce0-4868-9b6a-82a474e15ba6"
      },
      "source": [
        "month = int(input(\"이번 달>>\"))\r\n",
        "#for month in range(0,13)\r\n",
        "print(month)\r\n",
        "if 2<month<6:\r\n",
        "  print(\"봄\")\r\n",
        "elif 5<month<9:\r\n",
        "  print(\"여름\")\r\n",
        "elif 8<month<12:\r\n",
        "  print(\"가을\")\r\n",
        "else:\r\n",
        "  print(\"겨울\")\r\n",
        "#이번달은 1월\r\n",
        "#345=봄/6~8/9~11/ 다른달은ㅇ 겨울"
      ],
      "execution_count": null,
      "outputs": [
        {
          "output_type": "stream",
          "text": [
            "이번 달>>1\n",
            "1\n",
            "겨울\n"
          ],
          "name": "stdout"
        }
      ]
    }
  ]
}